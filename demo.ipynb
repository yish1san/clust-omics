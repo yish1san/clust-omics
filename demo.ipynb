{
 "cells": [
  {
   "cell_type": "raw",
   "metadata": {
    "vscode": {
     "languageId": "raw"
    }
   },
   "source": [
    "---\n",
    "title: Clustering application\n",
    "author: \"Demo\"\n",
    "date: \"03/10/2025\"\n",
    "format: \n",
    "  html:\n",
    "    toc: true\n",
    "execute: \n",
    "  echo: true\n",
    "  message: false\n",
    "  warning: false\n",
    "---"
   ]
  },
  {
   "cell_type": "markdown",
   "metadata": {},
   "source": [
    "## Dataset\n",
    "\n",
    "- We examine a tumor tissue sample from a triple-negative breast cancer patient, as described in [A Structured Tumor-Immune Microenvironment in Triple-Negative Breast Cancer Revealed by Multiplexed Ion Beam Imaging](https://www.cell.com/cell/fulltext/S0092-8674(18)31100-0).\n",
    "\n",
    "- The dataset of sample, saved in CSV format in a GitHub repository, contains multiple cells with 36 protein expression levels and corresponding cell types.\n",
    "\n",
    "- Objectives: \n",
    "    - 1) Cluster cells using 36 protein markers. Then, apply PCA to visualize the resulting clusters, ensuring that cell types and spatial coordinates are excluded from both the clustering analysis and PCA computation.\n",
    "    - 2) Compare the clustering results with the cell types provided in the dataset.\n",
    "    - 3) Do Visualize the clustering results with the spatial coordinates provided in the dataset or PCs."
   ]
  }
 ],
 "metadata": {
  "language_info": {
   "name": "python"
  }
 },
 "nbformat": 4,
 "nbformat_minor": 2
}
